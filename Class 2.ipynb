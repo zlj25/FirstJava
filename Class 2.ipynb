{
 "cells": [
  {
   "cell_type": "code",
   "execution_count": 1,
   "id": "649e9ef4-052a-4251-b321-a94e0abff83d",
   "metadata": {},
   "outputs": [
    {
     "name": "stdout",
     "output_type": "stream",
     "text": [
      "True\n",
      "True\n",
      "False\n"
     ]
    }
   ],
   "source": [
    "print(42 == 42)\n",
    "print(42 != '42')\n",
    "print(42 == '42')"
   ]
  },
  {
   "cell_type": "code",
   "execution_count": 3,
   "id": "4dbb2b12-e4e0-46de-b7c4-6d3940082f00",
   "metadata": {},
   "outputs": [
    {
     "data": {
      "text/plain": [
       "False"
      ]
     },
     "execution_count": 3,
     "metadata": {},
     "output_type": "execute_result"
    }
   ],
   "source": [
    "(5<6) and (6<5)"
   ]
  },
  {
   "cell_type": "code",
   "execution_count": 5,
   "id": "ebfdcb10-8cb9-4aca-af93-d1fcb9c34936",
   "metadata": {},
   "outputs": [
    {
     "data": {
      "text/plain": [
       "True"
      ]
     },
     "execution_count": 5,
     "metadata": {},
     "output_type": "execute_result"
    }
   ],
   "source": [
    "(5<6) or (6<5)"
   ]
  },
  {
   "cell_type": "code",
   "execution_count": 7,
   "id": "4b6f409d-0ac2-4209-856c-1f7a95f94e68",
   "metadata": {},
   "outputs": [
    {
     "data": {
      "text/plain": [
       "False"
      ]
     },
     "execution_count": 7,
     "metadata": {},
     "output_type": "execute_result"
    }
   ],
   "source": [
    "(7<6) and (6<5)"
   ]
  },
  {
   "cell_type": "code",
   "execution_count": 21,
   "id": "254db41b-6420-4748-bc25-a4e9468208f8",
   "metadata": {},
   "outputs": [
    {
     "name": "stdin",
     "output_type": "stream",
     "text": [
      " apple1\n"
     ]
    },
    {
     "name": "stdout",
     "output_type": "stream",
     "text": [
      "Enter your password\n",
      "ID is correct\n",
      "Password is correct\n"
     ]
    }
   ],
   "source": [
    "ID = 'apple'\n",
    "Password = input()\n",
    "print (\"Enter your password\")\n",
    "\n",
    "if ID == 'apple':\n",
    "    print('ID is correct')\n",
    "if Password == 'apple1':\n",
    "        print(\"Password is correct\")\n",
    "else: \n",
    "    print(\"Password is not correct\")"
   ]
  },
  {
   "cell_type": "code",
   "execution_count": 25,
   "id": "4f0a7ea7-9d55-4690-840a-414d36249858",
   "metadata": {},
   "outputs": [
    {
     "name": "stdin",
     "output_type": "stream",
     "text": [
      " 100\n"
     ]
    },
    {
     "name": "stdout",
     "output_type": "stream",
     "text": [
      "Your score 100\n",
      "Your grade is an A\n"
     ]
    }
   ],
   "source": [
    "score = input ()\n",
    "print (\"Your score\" , score)\n",
    "\n",
    "score = int(score)\n",
    "\n",
    "if int(score) > 90:\n",
    "    print(\"Your grade is an A\")\n",
    "elif int(score) > 80:\n",
    "    print(\"Your grade is a B\")\n",
    "elif int(score) > 70:\n",
    "    print(\"Your grade is a C\")\n",
    "else:\n",
    "    print(\"Your grade is a D\")"
   ]
  },
  {
   "cell_type": "code",
   "execution_count": null,
   "id": "99f2c3df-dd7c-47d3-92fe-1aeeb34cae26",
   "metadata": {},
   "outputs": [],
   "source": []
  },
  {
   "cell_type": "code",
   "execution_count": null,
   "id": "611ff580-c38a-4b84-a4a5-c05a78d251c6",
   "metadata": {},
   "outputs": [],
   "source": []
  },
  {
   "cell_type": "code",
   "execution_count": null,
   "id": "d06f4179-f300-476a-90aa-5a3a56626d1f",
   "metadata": {},
   "outputs": [],
   "source": []
  },
  {
   "cell_type": "code",
   "execution_count": null,
   "id": "7aebcb77-e284-4d41-9358-46989009b9a6",
   "metadata": {},
   "outputs": [],
   "source": []
  },
  {
   "cell_type": "code",
   "execution_count": null,
   "id": "bccb428a-5a7f-4326-acd7-a080b451ab94",
   "metadata": {},
   "outputs": [],
   "source": []
  },
  {
   "cell_type": "code",
   "execution_count": null,
   "id": "762eb86e-62f9-4c5d-8d8b-f75b35628a83",
   "metadata": {},
   "outputs": [],
   "source": []
  },
  {
   "cell_type": "code",
   "execution_count": null,
   "id": "695ef4f4-f569-4d34-b425-124a4939462a",
   "metadata": {},
   "outputs": [],
   "source": []
  },
  {
   "cell_type": "code",
   "execution_count": null,
   "id": "f0396033-8f25-4b8d-85f9-41a933b8e586",
   "metadata": {},
   "outputs": [],
   "source": []
  }
 ],
 "metadata": {
  "kernelspec": {
   "display_name": "Python [conda env:base] *",
   "language": "python",
   "name": "conda-base-py"
  },
  "language_info": {
   "codemirror_mode": {
    "name": "ipython",
    "version": 3
   },
   "file_extension": ".py",
   "mimetype": "text/x-python",
   "name": "python",
   "nbconvert_exporter": "python",
   "pygments_lexer": "ipython3",
   "version": "3.12.7"
  }
 },
 "nbformat": 4,
 "nbformat_minor": 5
}
