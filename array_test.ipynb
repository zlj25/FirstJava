{
 "cells": [
  {
   "cell_type": "code",
   "execution_count": 3,
   "id": "ba93e61f-c812-48da-8bac-645570f0b51c",
   "metadata": {},
   "outputs": [],
   "source": [
    "array = [[10,20]]\n",
    "array2 = [[10,20],[30,40],[60,80]]"
   ]
  },
  {
   "cell_type": "code",
   "execution_count": 5,
   "id": "70398464-f9cd-4746-bd09-8d22a245bd7b",
   "metadata": {},
   "outputs": [
    {
     "data": {
      "text/plain": [
       "20"
      ]
     },
     "execution_count": 5,
     "metadata": {},
     "output_type": "execute_result"
    }
   ],
   "source": [
    "array2[0][1]"
   ]
  },
  {
   "cell_type": "code",
   "execution_count": 7,
   "id": "cd5ac2be-9246-4c6f-849f-385fc2f5a5e1",
   "metadata": {},
   "outputs": [
    {
     "data": {
      "text/plain": [
       "60"
      ]
     },
     "execution_count": 7,
     "metadata": {},
     "output_type": "execute_result"
    }
   ],
   "source": [
    "array2[2][0]"
   ]
  },
  {
   "cell_type": "code",
   "execution_count": null,
   "id": "c7b2be29-f8e9-4107-a008-f9a47fb1c134",
   "metadata": {},
   "outputs": [],
   "source": []
  },
  {
   "cell_type": "code",
   "execution_count": 10,
   "id": "cf8b99a2-a707-4a30-a2ef-096b3454eeb5",
   "metadata": {},
   "outputs": [
    {
     "data": {
      "text/plain": [
       "10"
      ]
     },
     "execution_count": 10,
     "metadata": {},
     "output_type": "execute_result"
    }
   ],
   "source": [
    "array[0][0]"
   ]
  },
  {
   "cell_type": "code",
   "execution_count": 3,
   "id": "cf781048-692d-474d-8c1d-e8c73c379165",
   "metadata": {},
   "outputs": [
    {
     "ename": "NameError",
     "evalue": "name 'array' is not defined",
     "output_type": "error",
     "traceback": [
      "\u001b[0;31m---------------------------------------------------------------------------\u001b[0m",
      "\u001b[0;31mNameError\u001b[0m                                 Traceback (most recent call last)",
      "Cell \u001b[0;32mIn[3], line 1\u001b[0m\n\u001b[0;32m----> 1\u001b[0m array[\u001b[38;5;241m1\u001b[39m][\u001b[38;5;241m1\u001b[39m]\n",
      "\u001b[0;31mNameError\u001b[0m: name 'array' is not defined"
     ]
    }
   ],
   "source": [
    "array[1][1]"
   ]
  },
  {
   "cell_type": "code",
   "execution_count": 5,
   "id": "3960b4c3-e38f-45e4-9bb2-0942909d6989",
   "metadata": {},
   "outputs": [
    {
     "ename": "NameError",
     "evalue": "name 'array' is not defined",
     "output_type": "error",
     "traceback": [
      "\u001b[0;31m---------------------------------------------------------------------------\u001b[0m",
      "\u001b[0;31mNameError\u001b[0m                                 Traceback (most recent call last)",
      "Cell \u001b[0;32mIn[5], line 1\u001b[0m\n\u001b[0;32m----> 1\u001b[0m array[\u001b[38;5;241m0\u001b[39m][\u001b[38;5;241m1\u001b[39m]\n",
      "\u001b[0;31mNameError\u001b[0m: name 'array' is not defined"
     ]
    }
   ],
   "source": [
    "array[0][1]"
   ]
  },
  {
   "cell_type": "code",
   "execution_count": 7,
   "id": "772d6acf-abfb-47b4-9ffc-ad4f18f9c7f6",
   "metadata": {},
   "outputs": [],
   "source": [
    "data = 2"
   ]
  },
  {
   "cell_type": "code",
   "execution_count": 9,
   "id": "aa5fd651-0875-41ef-a21f-95c638e75938",
   "metadata": {},
   "outputs": [
    {
     "data": {
      "text/plain": [
       "False"
      ]
     },
     "execution_count": 9,
     "metadata": {},
     "output_type": "execute_result"
    }
   ],
   "source": [
    "2 == 3"
   ]
  },
  {
   "cell_type": "code",
   "execution_count": 11,
   "id": "f6b00286-21f0-4340-a889-9462c224df5c",
   "metadata": {},
   "outputs": [],
   "source": [
    "import pandas as pd"
   ]
  },
  {
   "cell_type": "code",
   "execution_count": 13,
   "id": "c7d48ebb-f967-4c2d-b41b-005935ef7ab7",
   "metadata": {},
   "outputs": [
    {
     "ename": "SyntaxError",
     "evalue": "unterminated string literal (detected at line 1) (712271888.py, line 1)",
     "output_type": "error",
     "traceback": [
      "\u001b[0;36m  Cell \u001b[0;32mIn[13], line 1\u001b[0;36m\u001b[0m\n\u001b[0;31m    data = pd.read_excel(r'\u001b[0m\n\u001b[0m                         ^\u001b[0m\n\u001b[0;31mSyntaxError\u001b[0m\u001b[0;31m:\u001b[0m unterminated string literal (detected at line 1)\n"
     ]
    }
   ],
   "source": [
    "data = pd.read_excel(r'"
   ]
  },
  {
   "cell_type": "code",
   "execution_count": 15,
   "id": "2c648477-4e2a-4b5e-954c-d39053238ff2",
   "metadata": {},
   "outputs": [
    {
     "ename": "NameError",
     "evalue": "name 'datafillna' is not defined",
     "output_type": "error",
     "traceback": [
      "\u001b[0;31m---------------------------------------------------------------------------\u001b[0m",
      "\u001b[0;31mNameError\u001b[0m                                 Traceback (most recent call last)",
      "Cell \u001b[0;32mIn[15], line 1\u001b[0m\n\u001b[0;32m----> 1\u001b[0m data \u001b[38;5;241m=\u001b[39m datafillna(\u001b[38;5;241m0\u001b[39m)\n",
      "\u001b[0;31mNameError\u001b[0m: name 'datafillna' is not defined"
     ]
    }
   ],
   "source": [
    "data = datafillna(0)"
   ]
  },
  {
   "cell_type": "code",
   "execution_count": 17,
   "id": "8bb9d9dc-9eba-406f-bd32-a059b62894dd",
   "metadata": {},
   "outputs": [
    {
     "ename": "TypeError",
     "evalue": "'int' object is not subscriptable",
     "output_type": "error",
     "traceback": [
      "\u001b[0;31m---------------------------------------------------------------------------\u001b[0m",
      "\u001b[0;31mTypeError\u001b[0m                                 Traceback (most recent call last)",
      "Cell \u001b[0;32mIn[17], line 1\u001b[0m\n\u001b[0;32m----> 1\u001b[0m k_data \u001b[38;5;241m=\u001b[39m data[[\u001b[38;5;124m'\u001b[39m\u001b[38;5;124mdiscount\u001b[39m\u001b[38;5;124m'\u001b[39m,\u001b[38;5;124m'\u001b[39m\u001b[38;5;124msales\u001b[39m\u001b[38;5;124m'\u001b[39m]]\n",
      "\u001b[0;31mTypeError\u001b[0m: 'int' object is not subscriptable"
     ]
    }
   ],
   "source": [
    "k_data = data[['discount','sales']]"
   ]
  },
  {
   "cell_type": "code",
   "execution_count": 19,
   "id": "b7ea01c4-c446-43ed-87f1-284fb66dd8b4",
   "metadata": {},
   "outputs": [
    {
     "ename": "NameError",
     "evalue": "name 'k_data' is not defined",
     "output_type": "error",
     "traceback": [
      "\u001b[0;31m---------------------------------------------------------------------------\u001b[0m",
      "\u001b[0;31mNameError\u001b[0m                                 Traceback (most recent call last)",
      "Cell \u001b[0;32mIn[19], line 1\u001b[0m\n\u001b[0;32m----> 1\u001b[0m k_data\n",
      "\u001b[0;31mNameError\u001b[0m: name 'k_data' is not defined"
     ]
    }
   ],
   "source": [
    "k_data"
   ]
  },
  {
   "cell_type": "code",
   "execution_count": 21,
   "id": "b4aefaeb-8ed0-49b5-a9d6-eca3d9cf98e9",
   "metadata": {},
   "outputs": [],
   "source": [
    "from sklearn.cluster import KMeans"
   ]
  },
  {
   "cell_type": "code",
   "execution_count": 22,
   "id": "25452413-92f6-43d6-bda4-7ade2fac5463",
   "metadata": {},
   "outputs": [],
   "source": [
    "optimal_k = []"
   ]
  },
  {
   "cell_type": "code",
   "execution_count": 23,
   "id": "aedda546-886b-4c16-9d31-c664e59c2a49",
   "metadata": {},
   "outputs": [
    {
     "ename": "TypeError",
     "evalue": "KMeans.__init__() got an unexpected keyword argument 'int'",
     "output_type": "error",
     "traceback": [
      "\u001b[0;31m---------------------------------------------------------------------------\u001b[0m",
      "\u001b[0;31mTypeError\u001b[0m                                 Traceback (most recent call last)",
      "Cell \u001b[0;32mIn[23], line 2\u001b[0m\n\u001b[1;32m      1\u001b[0m \u001b[38;5;28;01mfor\u001b[39;00m i \u001b[38;5;129;01min\u001b[39;00m \u001b[38;5;28mrange\u001b[39m(\u001b[38;5;241m2\u001b[39m,\u001b[38;5;241m11\u001b[39m):\n\u001b[0;32m----> 2\u001b[0m     k \u001b[38;5;241m=\u001b[39m KMeans(n_clusters \u001b[38;5;241m=\u001b[39m i, \u001b[38;5;28mint\u001b[39m\u001b[38;5;241m=\u001b[39m\u001b[38;5;124m'\u001b[39m\u001b[38;5;124mk-means++i\u001b[39m\u001b[38;5;124m'\u001b[39m)\n\u001b[1;32m      3\u001b[0m     k\u001b[38;5;241m.\u001b[39mfit(k_data)\n\u001b[1;32m      4\u001b[0m     res \u001b[38;5;241m=\u001b[39m k\u001b[38;5;241m.\u001b[39minertia_\n",
      "\u001b[0;31mTypeError\u001b[0m: KMeans.__init__() got an unexpected keyword argument 'int'"
     ]
    }
   ],
   "source": [
    "for i in range(2,11):\n",
    "    k = KMeans(n_clusters = i, int='k-means++i')\n",
    "    k.fit(k_data)\n",
    "    res = k.inertia_\n",
    "    opimal_k.append(res)"
   ]
  },
  {
   "cell_type": "code",
   "execution_count": null,
   "id": "9fd65336-0b2b-45ad-8adf-8421e8b4262c",
   "metadata": {},
   "outputs": [],
   "source": [
    "import matplotlib.plyplot as plt\n",
    "plt.figure(figsize=(10,8))\n",
    "plt.plot(range(2,11), optimal_k, marker = 'o')\n",
    "plt.show()"
   ]
  },
  {
   "cell_type": "code",
   "execution_count": null,
   "id": "993a1c81-e463-46cb-a098-9492f47d165a",
   "metadata": {},
   "outputs": [],
   "source": [
    "optimal_kmeans = KMeans(n_clusters = 6, int='k-means++')\n",
    "optimal_kmeans.fit(k_data)"
   ]
  },
  {
   "cell_type": "code",
   "execution_count": null,
   "id": "a2500b44-d2b3-4b7d-819c-b8e3ddb9aea1",
   "metadata": {},
   "outputs": [],
   "source": []
  },
  {
   "cell_type": "code",
   "execution_count": null,
   "id": "1113b421-b871-4639-8a22-29752989a73d",
   "metadata": {},
   "outputs": [],
   "source": []
  }
 ],
 "metadata": {
  "kernelspec": {
   "display_name": "Python [conda env:base] *",
   "language": "python",
   "name": "conda-base-py"
  },
  "language_info": {
   "codemirror_mode": {
    "name": "ipython",
    "version": 3
   },
   "file_extension": ".py",
   "mimetype": "text/x-python",
   "name": "python",
   "nbconvert_exporter": "python",
   "pygments_lexer": "ipython3",
   "version": "3.12.7"
  }
 },
 "nbformat": 4,
 "nbformat_minor": 5
}
