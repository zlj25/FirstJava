{
 "cells": [
  {
   "cell_type": "code",
   "execution_count": 1,
   "id": "e3837137-dda3-403d-ad62-81d6c5bd535d",
   "metadata": {},
   "outputs": [
    {
     "name": "stdout",
     "output_type": "stream",
     "text": [
      "andrew got 90\n"
     ]
    }
   ],
   "source": [
    "grades = [['andrew', 'lydia', 'luke'], [90, 80, 85]]\n",
    "\n",
    "print(f\"{grades[0][0]} got {grades[1][0]}\")"
   ]
  },
  {
   "cell_type": "code",
   "execution_count": 3,
   "id": "c984a6b6-26c9-48b5-ad8b-1c8607d83bb0",
   "metadata": {},
   "outputs": [
    {
     "name": "stdout",
     "output_type": "stream",
     "text": [
      "['bat', 'rat', 'elephant']\n"
     ]
    }
   ],
   "source": [
    "animals = ['cat', 'bat', 'rat', 'elephant', 'giraffe']\n",
    "\n",
    "print(animals[1:4])"
   ]
  },
  {
   "cell_type": "code",
   "execution_count": null,
   "id": "14283755-303e-4945-98e0-2224cad83321",
   "metadata": {},
   "outputs": [],
   "source": [
    "animal = input('Enter an animal: ')\n",
    "\n",
    "if animal in animals:\n",
    "    print(f'{animal} is in the list')\n",
    "else:\n",
    "    print(f'{animal} is not in the list')"
   ]
  },
  {
   "cell_type": "code",
   "execution_count": null,
   "id": "05864205-2012-4e11-b885-5d6a49de4712",
   "metadata": {},
   "outputs": [],
   "source": [
    "supplies = ['pens', 'staplers', 'flame-throwers', 'binders']\n",
    "for index, item in enumerate(supplies):\n",
    "    print(f'Index {index} in supplies is: {item}')"
   ]
  },
  {
   "cell_type": "code",
   "execution_count": null,
   "id": "25e39af0-751f-4f5f-a25b-8715e041bd38",
   "metadata": {},
   "outputs": [],
   "source": [
    "for i in range(len(animals)):\n",
    "    print(f'Index {i} in animals is: {animals[i]}')\n"
   ]
  },
  {
   "cell_type": "code",
   "execution_count": null,
   "id": "93e06eff-8972-4259-83f7-121c4c41eea5",
   "metadata": {},
   "outputs": [],
   "source": [
    "for i, item in enumerate(animals):\n",
    "    print(f'Index {i} in animals is: {item}')\n",
    "\n"
   ]
  },
  {
   "cell_type": "code",
   "execution_count": null,
   "id": "a45f7c54-2ec3-4518-b909-5adc48171b6a",
   "metadata": {},
   "outputs": [],
   "source": [
    "for item in animals:\n",
    "    print(item)"
   ]
  },
  {
   "cell_type": "code",
   "execution_count": null,
   "id": "706aaff7-0ee9-4a97-bbfb-25e38527e983",
   "metadata": {},
   "outputs": [],
   "source": [
    "import random\n"
   ]
  },
  {
   "cell_type": "code",
   "execution_count": null,
   "id": "990f4dc3-a464-4b35-879c-bdf5174bc8ae",
   "metadata": {},
   "outputs": [],
   "source": [
    "random.shuffle(animals)\n",
    "print(animals)"
   ]
  },
  {
   "cell_type": "code",
   "execution_count": null,
   "id": "28f30b35-e88d-4cb0-928b-dfba2cf4fed3",
   "metadata": {},
   "outputs": [],
   "source": [
    "for i in range(5):\n",
    "    print(random.choice(animals))"
   ]
  },
  {
   "cell_type": "code",
   "execution_count": null,
   "id": "530d1752-c32d-4abe-8e0d-564e8ceb5e2a",
   "metadata": {},
   "outputs": [],
   "source": [
    "sumvalue = []\n",
    "\n",
    "for i in range(1, 101):\n",
    "    sumvalue.append(i)\n",
    "\n",
    "print(sum(sumvalue))\n"
   ]
  },
  {
   "cell_type": "code",
   "execution_count": null,
   "id": "e28a3f3c-7e63-457e-b795-9d1cac9def49",
   "metadata": {},
   "outputs": [],
   "source": []
  }
 ],
 "metadata": {
  "kernelspec": {
   "display_name": "Python [conda env:base] *",
   "language": "python",
   "name": "conda-base-py"
  },
  "language_info": {
   "codemirror_mode": {
    "name": "ipython",
    "version": 3
   },
   "file_extension": ".py",
   "mimetype": "text/x-python",
   "name": "python",
   "nbconvert_exporter": "python",
   "pygments_lexer": "ipython3",
   "version": "3.12.7"
  }
 },
 "nbformat": 4,
 "nbformat_minor": 5
}
