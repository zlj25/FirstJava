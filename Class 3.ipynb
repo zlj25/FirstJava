{
 "cells": [
  {
   "cell_type": "code",
   "execution_count": 1,
   "id": "ebeced43-969e-45fd-acac-aa178722b64e",
   "metadata": {},
   "outputs": [
    {
     "name": "stdout",
     "output_type": "stream",
     "text": [
      "\u001b[31mERROR: Could not find a version that satisfies the requirement random (from versions: none)\u001b[0m\u001b[31m\n",
      "\u001b[0m\u001b[31mERROR: No matching distribution found for random\u001b[0m\u001b[31m\n",
      "\u001b[0m"
     ]
    }
   ],
   "source": [
    "!pip install random"
   ]
  },
  {
   "cell_type": "code",
   "execution_count": 3,
   "id": "26f0c02b-9e83-450f-b082-88c96aaa02de",
   "metadata": {},
   "outputs": [],
   "source": [
    "import random"
   ]
  },
  {
   "cell_type": "code",
   "execution_count": 14,
   "id": "c64eb880-0f46-4dc3-a646-5b3b69a6ad90",
   "metadata": {},
   "outputs": [
    {
     "name": "stdout",
     "output_type": "stream",
     "text": [
      "I am thinking of a number between 1 and 40.\n"
     ]
    }
   ],
   "source": [
    "guessnumber = random.randint(1,40)\n",
    "print(\"I am thinking of a number between 1 and 40.\")\n"
   ]
  },
  {
   "cell_type": "code",
   "execution_count": 18,
   "id": "58515972-90d2-4ca3-adb4-cc8f0f7da203",
   "metadata": {},
   "outputs": [
    {
     "name": "stdout",
     "output_type": "stream",
     "text": [
      "Take a guess\n"
     ]
    },
    {
     "name": "stdin",
     "output_type": "stream",
     "text": [
      " 6\n"
     ]
    },
    {
     "name": "stdout",
     "output_type": "stream",
     "text": [
      "Your guess is too low.\n",
      "Take a guess\n"
     ]
    },
    {
     "name": "stdin",
     "output_type": "stream",
     "text": [
      " 7\n"
     ]
    },
    {
     "name": "stdout",
     "output_type": "stream",
     "text": [
      "Your guess is too low.\n",
      "Take a guess\n"
     ]
    },
    {
     "name": "stdin",
     "output_type": "stream",
     "text": [
      " 10\n"
     ]
    },
    {
     "name": "stdout",
     "output_type": "stream",
     "text": [
      "Your guess is too high.\n",
      "Take a guess\n"
     ]
    },
    {
     "name": "stdin",
     "output_type": "stream",
     "text": [
      " 8\n"
     ]
    },
    {
     "name": "stdout",
     "output_type": "stream",
     "text": [
      "You guessed my number in 3guesses!\n"
     ]
    }
   ],
   "source": [
    "for i in range(10):\n",
    "    print('Take a guess')\n",
    "    yourguess = int(input())\n",
    "    \n",
    "    if yourguess < guessnumber:\n",
    "        print('Your guess is too low.')\n",
    "    \n",
    "    elif yourguess > guessnumber:\n",
    "        print('Your guess is too high.')\n",
    "    \n",
    "    else:\n",
    "     break\n",
    "\n",
    "if yourguess == guessnumber:\n",
    "    print('You guessed my number in ' + str(i) + 'guesses!')\n",
    "\n",
    "else:\n",
    "    print('No' + ' The number I was thinking of was' + str(guessnumber))"
   ]
  },
  {
   "cell_type": "code",
   "execution_count": null,
   "id": "bd1941b2-f5d9-4181-a16d-1c7b8db01b57",
   "metadata": {},
   "outputs": [],
   "source": []
  },
  {
   "cell_type": "code",
   "execution_count": null,
   "id": "ad790db0-fdd7-4836-bad1-45681e06de94",
   "metadata": {},
   "outputs": [],
   "source": []
  },
  {
   "cell_type": "code",
   "execution_count": null,
   "id": "52663eb2-1adc-4126-92df-2cc867188a64",
   "metadata": {},
   "outputs": [],
   "source": []
  },
  {
   "cell_type": "code",
   "execution_count": null,
   "id": "ea13adac-440d-484e-9d89-19b0d3feef0e",
   "metadata": {},
   "outputs": [],
   "source": []
  }
 ],
 "metadata": {
  "kernelspec": {
   "display_name": "Python [conda env:base] *",
   "language": "python",
   "name": "conda-base-py"
  },
  "language_info": {
   "codemirror_mode": {
    "name": "ipython",
    "version": 3
   },
   "file_extension": ".py",
   "mimetype": "text/x-python",
   "name": "python",
   "nbconvert_exporter": "python",
   "pygments_lexer": "ipython3",
   "version": "3.12.7"
  }
 },
 "nbformat": 4,
 "nbformat_minor": 5
}
