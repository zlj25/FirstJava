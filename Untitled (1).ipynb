{
 "cells": [
  {
   "cell_type": "code",
   "execution_count": 7,
   "id": "7ac396b7-fde5-4221-b11e-f93cc5d059bc",
   "metadata": {},
   "outputs": [
    {
     "name": "stdout",
     "output_type": "stream",
     "text": [
      "i is 1 k is 1 Results =  1\n",
      "i is 1 k is 2 Results =  2\n",
      "i is 1 k is 3 Results =  3\n",
      "i is 1 k is 4 Results =  4\n",
      "i is 1 k is 5 Results =  5\n",
      "i is 1 k is 6 Results =  6\n",
      "i is 1 k is 7 Results =  7\n",
      "i is 1 k is 8 Results =  8\n",
      "i is 1 k is 9 Results =  9\n",
      "i is 2 k is 1 Results =  2\n",
      "i is 2 k is 2 Results =  4\n",
      "i is 2 k is 3 Results =  6\n",
      "i is 2 k is 4 Results =  8\n",
      "i is 2 k is 5 Results =  10\n",
      "i is 2 k is 6 Results =  12\n",
      "i is 2 k is 7 Results =  14\n",
      "i is 2 k is 8 Results =  16\n",
      "i is 2 k is 9 Results =  18\n",
      "i is 3 k is 1 Results =  3\n",
      "i is 3 k is 2 Results =  6\n",
      "i is 3 k is 3 Results =  9\n",
      "i is 3 k is 4 Results =  12\n",
      "i is 3 k is 5 Results =  15\n",
      "i is 3 k is 6 Results =  18\n",
      "i is 3 k is 7 Results =  21\n",
      "i is 3 k is 8 Results =  24\n",
      "i is 3 k is 9 Results =  27\n",
      "i is 4 k is 1 Results =  4\n",
      "i is 4 k is 2 Results =  8\n",
      "i is 4 k is 3 Results =  12\n",
      "i is 4 k is 4 Results =  16\n",
      "i is 4 k is 5 Results =  20\n",
      "i is 4 k is 6 Results =  24\n",
      "i is 4 k is 7 Results =  28\n",
      "i is 4 k is 8 Results =  32\n",
      "i is 4 k is 9 Results =  36\n",
      "i is 5 k is 1 Results =  5\n",
      "i is 6 k is 1 Results =  6\n",
      "i is 6 k is 2 Results =  12\n",
      "i is 6 k is 3 Results =  18\n",
      "i is 6 k is 4 Results =  24\n",
      "i is 6 k is 5 Results =  30\n",
      "i is 6 k is 6 Results =  36\n",
      "i is 6 k is 7 Results =  42\n",
      "i is 6 k is 8 Results =  48\n",
      "i is 6 k is 9 Results =  54\n",
      "i is 7 k is 1 Results =  7\n",
      "i is 7 k is 2 Results =  14\n",
      "i is 7 k is 3 Results =  21\n",
      "i is 7 k is 4 Results =  28\n",
      "i is 7 k is 5 Results =  35\n",
      "i is 7 k is 6 Results =  42\n",
      "i is 7 k is 7 Results =  49\n",
      "i is 7 k is 8 Results =  56\n",
      "i is 7 k is 9 Results =  63\n",
      "i is 8 k is 1 Results =  8\n",
      "i is 8 k is 2 Results =  16\n",
      "i is 8 k is 3 Results =  24\n",
      "i is 8 k is 4 Results =  32\n",
      "i is 8 k is 5 Results =  40\n",
      "i is 8 k is 6 Results =  48\n",
      "i is 8 k is 7 Results =  56\n",
      "i is 8 k is 8 Results =  64\n",
      "i is 8 k is 9 Results =  72\n",
      "i is 9 k is 1 Results =  9\n",
      "i is 9 k is 2 Results =  18\n",
      "i is 9 k is 3 Results =  27\n",
      "i is 9 k is 4 Results =  36\n",
      "i is 9 k is 5 Results =  45\n",
      "i is 9 k is 6 Results =  54\n",
      "i is 9 k is 7 Results =  63\n",
      "i is 9 k is 8 Results =  72\n",
      "i is 9 k is 9 Results =  81\n"
     ]
    }
   ],
   "source": [
    "for i in range(1,10):\n",
    "\n",
    "    for k in range(1,10):\n",
    "        print(\"i is\", i, \"k is\", k, \"Results = \", i*k)\n",
    "\n",
    "        if i ==5:\n",
    "            break"
   ]
  },
  {
   "cell_type": "code",
   "execution_count": null,
   "id": "aafebcc4-1bae-406d-a9b8-feb1dcb29b0f",
   "metadata": {},
   "outputs": [],
   "source": [
    "for i in range(1,10):\n",
    "\n",
    "        if i ==5:\n",
    "            break\n",
    "\n",
    "    for k in range(1,10):\n",
    "        print(\"i is\", i, \"k is\", k, \"Results = \", i*k)"
   ]
  },
  {
   "cell_type": "code",
   "execution_count": null,
   "id": "ec3462e7-076a-4a1e-af1d-1706ffc946b6",
   "metadata": {},
   "outputs": [],
   "source": [
    "for i in range(1,10):\n",
    "\n",
    "    for k in range(1,10):\n",
    "        print(\"i is\", i, \"k is\", k, \"Results = \", i*k)\n",
    "\n",
    "        if i ==5:\n",
    "            break"
   ]
  },
  {
   "cell_type": "code",
   "execution_count": 15,
   "id": "01cb05df-e1be-4988-99b5-b660e1701351",
   "metadata": {},
   "outputs": [
    {
     "name": "stdout",
     "output_type": "stream",
     "text": [
      "99\n"
     ]
    }
   ],
   "source": [
    "def spam():\n",
    "    eggs = 99\n",
    "    bacon()\n",
    "    print(eggs)\n",
    "\n",
    "def bacon():\n",
    "    ham = 101\n",
    "    eggs = 0\n",
    "\n",
    "spam()"
   ]
  },
  {
   "cell_type": "code",
   "execution_count": 17,
   "id": "721bc5fa-7535-487b-b67e-9dcdc2ef48ce",
   "metadata": {},
   "outputs": [
    {
     "name": "stdout",
     "output_type": "stream",
     "text": [
      "20\n",
      "10\n"
     ]
    }
   ],
   "source": [
    "def spam():\n",
    "    eggs = 20\n",
    "    print(eggs)\n",
    "eggs = 42\n",
    "spam()\n",
    "\n",
    "eggs = 10\n",
    "print(eggs)"
   ]
  },
  {
   "cell_type": "code",
   "execution_count": 21,
   "id": "ef215fa1-5f13-4f9e-b297-546d9859168f",
   "metadata": {},
   "outputs": [
    {
     "name": "stdout",
     "output_type": "stream",
     "text": [
      "21.0\n",
      "3.5\n",
      "Error, You cannot divide something by zero.\n",
      "0\n",
      "42.0\n"
     ]
    }
   ],
   "source": [
    "def spam(num):\n",
    "    result = 0\n",
    "    try:\n",
    "        result = 42/num\n",
    "    except:\n",
    "        print(\"Error, You cannot divide something by zero.\")\n",
    "    return result\n",
    "    \n",
    "\n",
    "print(spam(2))\n",
    "print(spam(12))\n",
    "print(spam(0))\n",
    "print(spam(1))"
   ]
  },
  {
   "cell_type": "code",
   "execution_count": 31,
   "id": "aff12fd0-471c-4de8-ba21-4d5d303ca7cd",
   "metadata": {},
   "outputs": [
    {
     "name": "stdin",
     "output_type": "stream",
     "text": [
      "Enter one integer, whatever you want. 99\n"
     ]
    },
    {
     "name": "stdout",
     "output_type": "stream",
     "text": [
      "298\n",
      "Invalid Value\n"
     ]
    }
   ],
   "source": [
    "def collatz(num):\n",
    "    if num % 2 ==0:\n",
    "        result = number//2\n",
    "    else:\n",
    "        result = (3*num) + 1\n",
    "    print(result)\n",
    "    return result\n",
    "\n",
    "try:\n",
    "    num = int(input(\"Enter one integer, whatever you want.\"))\n",
    "    while num != 1:\n",
    "        num = collatz(num)\n",
    "except:\n",
    "    print(\"Invalid Value\")"
   ]
  },
  {
   "cell_type": "code",
   "execution_count": null,
   "id": "028e0709-4cc7-491b-8ff2-a2e868c8f132",
   "metadata": {},
   "outputs": [],
   "source": []
  }
 ],
 "metadata": {
  "kernelspec": {
   "display_name": "Python [conda env:base] *",
   "language": "python",
   "name": "conda-base-py"
  },
  "language_info": {
   "codemirror_mode": {
    "name": "ipython",
    "version": 3
   },
   "file_extension": ".py",
   "mimetype": "text/x-python",
   "name": "python",
   "nbconvert_exporter": "python",
   "pygments_lexer": "ipython3",
   "version": "3.12.7"
  }
 },
 "nbformat": 4,
 "nbformat_minor": 5
}
