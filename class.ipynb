{
 "cells": [
  {
   "cell_type": "code",
   "execution_count": null,
   "id": "6fd2342f-f8f7-44ab-b3ec-2b4e7be812d9",
   "metadata": {},
   "outputs": [],
   "source": [
    "print(\"Pre while loop\\n\")\n",
    "\n",
    "while True:\n",
    "    print(\"who are you?\")\n",
    "    name = input()\n",
    "    if name != \"Joe\":\n",
    "        continue #go back to the top of the loop\n",
    "    print(\"Hello, Joe. What is the password? (It is a fish.)\")\n",
    "    password = input()\n",
    "    if password == \"swordfish\":\n",
    "        break\n",
    "    else:\n",
    "        print(\"Incorrect password.\")\n",
    "\n",
    "print(\"Access granted.\")"
   ]
  },
  {
   "cell_type": "code",
   "execution_count": null,
   "id": "27b82b53-719b-4fef-9eda-b124cfd63d14",
   "metadata": {},
   "outputs": [],
   "source": [
    "for i in range(10):\n",
    "    if i == 5:\n",
    "        break\n",
    "    print(i)"
   ]
  },
  {
   "cell_type": "code",
   "execution_count": null,
   "id": "1b84591d-926d-4140-a508-0dafcda1ead3",
   "metadata": {},
   "outputs": [],
   "source": [
    "for i in range(12, 16):\n",
    "    print(i)"
   ]
  },
  {
   "cell_type": "code",
   "execution_count": null,
   "id": "09bc485a-382c-4af6-8524-c7e1410134de",
   "metadata": {},
   "outputs": [],
   "source": []
  }
 ],
 "metadata": {
  "kernelspec": {
   "display_name": "Python [conda env:base] *",
   "language": "python",
   "name": "conda-base-py"
  },
  "language_info": {
   "name": ""
  }
 },
 "nbformat": 4,
 "nbformat_minor": 5
}
