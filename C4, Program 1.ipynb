{
 "cells": [
  {
   "cell_type": "code",
   "execution_count": 35,
   "id": "fdb1e605-bcc2-4a0d-9fd4-49ddd3593560",
   "metadata": {},
   "outputs": [
    {
     "name": "stdout",
     "output_type": "stream",
     "text": [
      "The game name is Rock, Paper, and Scissors.\n"
     ]
    }
   ],
   "source": [
    "import random, sys\n",
    "\n",
    "print(\"The game name is Rock, Paper, and Scissors.\")\n"
   ]
  },
  {
   "cell_type": "code",
   "execution_count": 37,
   "id": "b28c2a7a-dfb8-4988-9ed7-bd25aebb2a03",
   "metadata": {},
   "outputs": [],
   "source": [
    "wins = 0\n",
    "losses = 0\n",
    "ties = 0"
   ]
  },
  {
   "cell_type": "code",
   "execution_count": null,
   "id": "00eb73b0-6773-4963-9697-57f316924fcb",
   "metadata": {},
   "outputs": [
    {
     "name": "stdout",
     "output_type": "stream",
     "text": [
      "How many times you wins0\n",
      "How many times you losses0\n",
      "How many times you ties0\n",
      "Enter your movement: (r)ock (p)aper (s)cissors or (q) is quit\n"
     ]
    },
    {
     "name": "stdin",
     "output_type": "stream",
     "text": [
      " r\n"
     ]
    },
    {
     "name": "stdout",
     "output_type": "stream",
     "text": [
      "You are good.\n",
      "Type one of r,p,s, or q\n",
      "Rock versus\n",
      "Computer move is r\n",
      "Tie\n",
      "How many times you wins0\n",
      "How many times you losses0\n",
      "How many times you ties1\n",
      "Enter your movement: (r)ock (p)aper (s)cissors or (q) is quit\n"
     ]
    }
   ],
   "source": [
    "while True:\n",
    "    print('How many times you wins' + str(wins) )\n",
    "    print('How many times you losses' + str(losses))\n",
    "    print('How many times you ties' + str(ties))\n",
    "    \n",
    "    print(\"Enter your movement: (r)ock (p)aper (s)cissors or (q) is quit\")\n",
    "    yourmove = input()\n",
    "    if yourmove == 'q':\n",
    "        sys.exit()\n",
    "    if yourmove == 'r' or yourmove == 'p' or yourmove == 's':\n",
    "        print(\"You are good.\")\n",
    "    \n",
    "    print('Type one of r,p,s, or q')\n",
    "    \n",
    "    if yourmove == 'r':\n",
    "        print(\"Rock versus\")\n",
    "    elif  yourmove == 's':\n",
    "        print(\"Scissor versus\")\n",
    "    elif  yourmove == 'p':\n",
    "        print(\"Paper versus\")\n",
    "    \n",
    "    randomnum = random.randint(1,3)\n",
    "    \n",
    "    if randomnum ==1:\n",
    "        computermove = 'r'\n",
    "        print(\"Computer move is r\")\n",
    "    elif randomnum ==2:\n",
    "        computermove = 's'\n",
    "        print(\"Computer move is s\")\n",
    "    elif randomnum == 3:\n",
    "        computermove = 'p'\n",
    "        print(\"Computer move is p\")\n",
    "    \n",
    "    if yourmove == computermove:\n",
    "        print(\"Tie\")\n",
    "        ties = ties + 1\n",
    "    elif yourmove == 'r' and computermove == 's':\n",
    "        print('You win')\n",
    "        wins = wins + 1\n",
    "    elif yourmove == 'r' and computermove == 'p':\n",
    "        print('You lose')\n",
    "        losses = losses + 1\n",
    "    elif yourmove == 's' and computermove == 'r':\n",
    "        print('You lose')\n",
    "        losses = losses + 1\n",
    "    elif yourmove == 's' and computermove == 'p':\n",
    "        print('You win')\n",
    "        wins = wins + 1\n",
    "    elif yourmove == 'p' and computermove == 'r':\n",
    "        print('You win')\n",
    "        wins = wins + 1\n",
    "    elif yourmove == 'p' and computermove == 's':\n",
    "        print('You lose')\n",
    "        losses = losses + 1"
   ]
  },
  {
   "cell_type": "code",
   "execution_count": null,
   "id": "676bffdd-4eb7-4de2-a84a-11c3cca0137d",
   "metadata": {},
   "outputs": [],
   "source": []
  },
  {
   "cell_type": "code",
   "execution_count": null,
   "id": "e80daf7d-4dce-4f62-876e-269c1a36c8bf",
   "metadata": {},
   "outputs": [],
   "source": []
  }
 ],
 "metadata": {
  "kernelspec": {
   "display_name": "Python [conda env:base] *",
   "language": "python",
   "name": "conda-base-py"
  },
  "language_info": {
   "codemirror_mode": {
    "name": "ipython",
    "version": 3
   },
   "file_extension": ".py",
   "mimetype": "text/x-python",
   "name": "python",
   "nbconvert_exporter": "python",
   "pygments_lexer": "ipython3",
   "version": "3.12.7"
  }
 },
 "nbformat": 4,
 "nbformat_minor": 5
}
