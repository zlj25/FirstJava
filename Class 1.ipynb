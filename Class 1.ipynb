{
 "cells": [
  {
   "cell_type": "code",
   "execution_count": 1,
   "id": "b04316f9-bcbf-4e79-8963-54aac199f842",
   "metadata": {},
   "outputs": [
    {
     "data": {
      "text/plain": [
       "2"
      ]
     },
     "execution_count": 1,
     "metadata": {},
     "output_type": "execute_result"
    }
   ],
   "source": [
    "2"
   ]
  },
  {
   "cell_type": "code",
   "execution_count": 3,
   "id": "cbc708a4-d6aa-456c-afbc-2ae5fe89759e",
   "metadata": {},
   "outputs": [
    {
     "data": {
      "text/plain": [
       "'zari'"
      ]
     },
     "execution_count": 3,
     "metadata": {},
     "output_type": "execute_result"
    }
   ],
   "source": [
    "\"zari\""
   ]
  },
  {
   "cell_type": "code",
   "execution_count": 13,
   "id": "c877284e-a63b-43f5-b839-8a328e2c7e3b",
   "metadata": {},
   "outputs": [
    {
     "data": {
      "text/plain": [
       "27"
      ]
     },
     "execution_count": 13,
     "metadata": {},
     "output_type": "execute_result"
    }
   ],
   "source": [
    "2+2\n",
    "2*2\n",
    "3**3"
   ]
  },
  {
   "cell_type": "code",
   "execution_count": 15,
   "id": "5ce2f2de-a5ae-461e-b3f6-036a6c90f137",
   "metadata": {},
   "outputs": [
    {
     "name": "stdout",
     "output_type": "stream",
     "text": [
      "4\n",
      "4\n",
      "4\n",
      "1.0\n",
      "0\n",
      "-5\n"
     ]
    }
   ],
   "source": [
    "print(2+2)\n",
    "print(2*2)\n",
    "print(2**2)\n",
    "print(2/2)\n",
    "print(3//9)\n",
    "print(5-10)"
   ]
  },
  {
   "cell_type": "code",
   "execution_count": null,
   "id": "fbfcdee1-2dcb-47f7-99e2-9e5d662e2ec0",
   "metadata": {},
   "outputs": [],
   "source": [
    "python =1"
   ]
  },
  {
   "cell_type": "code",
   "execution_count": 17,
   "id": "a38e54b7-86f8-449b-8a4b-0051819ebefa",
   "metadata": {},
   "outputs": [
    {
     "data": {
      "text/plain": [
       "2"
      ]
     },
     "execution_count": 17,
     "metadata": {},
     "output_type": "execute_result"
    }
   ],
   "source": [
    "python + 1"
   ]
  },
  {
   "cell_type": "code",
   "execution_count": 11,
   "id": "f4abfebc-5501-41e4-be22-3348a95cd0c8",
   "metadata": {},
   "outputs": [
    {
     "data": {
      "text/plain": [
       "2"
      ]
     },
     "execution_count": 11,
     "metadata": {},
     "output_type": "execute_result"
    }
   ],
   "source": [
    "python + int('1')"
   ]
  },
  {
   "cell_type": "code",
   "execution_count": null,
   "id": "ccb07e5f-2aac-425f-9bbc-5ffca178b20f",
   "metadata": {},
   "outputs": [],
   "source": [
    "print(\"Hello, World !\")\n",
    "print(' what is your name?')\n",
    "myname = input()\n",
    "print(\"It is good to meet you, \" + int(myname))"
   ]
  },
  {
   "cell_type": "code",
   "execution_count": null,
   "id": "495b4a15-091b-4f27-b2ad-896e8ec72e5d",
   "metadata": {},
   "outputs": [],
   "source": []
  },
  {
   "cell_type": "code",
   "execution_count": null,
   "id": "50e79e70-1049-4034-9f71-9ec9e8db7c0f",
   "metadata": {},
   "outputs": [],
   "source": []
  },
  {
   "cell_type": "code",
   "execution_count": null,
   "id": "79cf5853-6ecc-426c-8462-91775ca89304",
   "metadata": {},
   "outputs": [],
   "source": []
  },
  {
   "cell_type": "code",
   "execution_count": null,
   "id": "686ecbea-0699-40c7-83ab-79c794066904",
   "metadata": {},
   "outputs": [],
   "source": []
  },
  {
   "cell_type": "code",
   "execution_count": null,
   "id": "af2d320d-3ec8-4f6d-b4e9-c5ab2cc6071f",
   "metadata": {},
   "outputs": [],
   "source": []
  }
 ],
 "metadata": {
  "kernelspec": {
   "display_name": "Python [conda env:base] *",
   "language": "python",
   "name": "conda-base-py"
  },
  "language_info": {
   "codemirror_mode": {
    "name": "ipython",
    "version": 3
   },
   "file_extension": ".py",
   "mimetype": "text/x-python",
   "name": "python",
   "nbconvert_exporter": "python",
   "pygments_lexer": "ipython3",
   "version": "3.12.7"
  }
 },
 "nbformat": 4,
 "nbformat_minor": 5
}
