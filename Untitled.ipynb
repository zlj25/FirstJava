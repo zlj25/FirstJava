{
 "cells": [
  {
   "cell_type": "code",
   "execution_count": 3,
   "id": "a9a7f4aa-72bf-4604-a01b-d2e7c5940347",
   "metadata": {},
   "outputs": [
    {
     "data": {
      "text/plain": [
       "'Your num is not integer'"
      ]
     },
     "execution_count": 3,
     "metadata": {},
     "output_type": "execute_result"
    }
   ],
   "source": [
    "def get_answer (num):\n",
    "    try:\n",
    "        if num == 1:\n",
    "            return 'The number is 1'\n",
    "        elif num == 2:\n",
    "            return'The number is 2'\n",
    "        elif num == 3:\n",
    "            return 'The number is 3'\n",
    "        elif num == 4:\n",
    "            return 'The number is 4'\n",
    "        elif num == 5:\n",
    "            return 'The number is 5'\n",
    "        elif num > 5:\n",
    "            return 'The number is too large'\n",
    "        else:\n",
    "            return 'Invalid input'\n",
    "    except:\n",
    "            return 'Your num is not integer'\n",
    "num = \"Why\"\n",
    "get_answer(num)"
   ]
  },
  {
   "cell_type": "code",
   "execution_count": 5,
   "id": "400cafd5-104d-45d5-8fe4-408c66380889",
   "metadata": {},
   "outputs": [
    {
     "name": "stdout",
     "output_type": "stream",
     "text": [
      "['Bob', 'David', 'Elisa', 'Jake']\n"
     ]
    }
   ],
   "source": [
    "exam1_score = {\n",
    "    \"Alice\": 85,\n",
    "    \"Bob\": 78,\n",
    "    \"Charlie\": 92,\n",
    "    \"David\": 65,\n",
    "    \"Eve\": 90,\n",
    "    \"Elisa\": 10,\n",
    "    \"Jake\": 80\n",
    "}\n",
    "\n",
    "fail_student = []\n",
    "\n",
    "for name, grade in exam1_score.items():\n",
    "    if grade <= 80:\n",
    "        fail_student.append(name)\n",
    "\n",
    "print(fail_student)"
   ]
  },
  {
   "cell_type": "code",
   "execution_count": 9,
   "id": "bde1725e-3d62-4d38-b221-11fa20183fc2",
   "metadata": {},
   "outputs": [
    {
     "name": "stdout",
     "output_type": "stream",
     "text": [
      "[7, 8, 10, 6, 9]\n"
     ]
    }
   ],
   "source": [
    "numbers = [1,3,7,2,5,8,10,4,6,9]\n",
    "result = []\n",
    "\n",
    "for i in range(len(numbers)):\n",
    "    if numbers[i] > 5:\n",
    "        result.append(numbers[i])\n",
    "\n",
    "print(result)"
   ]
  },
  {
   "cell_type": "code",
   "execution_count": 11,
   "id": "bcb5125f-2efc-4328-a861-024eadcc3e30",
   "metadata": {},
   "outputs": [
    {
     "name": "stdout",
     "output_type": "stream",
     "text": [
      "56787\n",
      "56787\n"
     ]
    }
   ],
   "source": [
    "student_db = {'netid1': '12345', 'nedid2':'45678'}\n",
    "\n",
    "print(student_db.setdefault('nedid1', '56787'))\n",
    "\n",
    "print(student_db.setdefault('nedid3', '56787'))"
   ]
  },
  {
   "cell_type": "code",
   "execution_count": null,
   "id": "8d874467-0afd-4e53-935a-bfe3a451ec8b",
   "metadata": {},
   "outputs": [],
   "source": []
  },
  {
   "cell_type": "code",
   "execution_count": 32,
   "id": "06e3b7d0-30bf-4a3a-895d-35d6833591aa",
   "metadata": {},
   "outputs": [
    {
     "ename": "NameError",
     "evalue": "name 'get' is not defined",
     "output_type": "error",
     "traceback": [
      "\u001b[0;31m---------------------------------------------------------------------------\u001b[0m",
      "\u001b[0;31mNameError\u001b[0m                                 Traceback (most recent call last)",
      "Cell \u001b[0;32mIn[32], line 2\u001b[0m\n\u001b[1;32m      1\u001b[0m c \u001b[38;5;241m=\u001b[39m [\u001b[38;5;124m'\u001b[39m\u001b[38;5;124mKorea\u001b[39m\u001b[38;5;124m'\u001b[39m, \u001b[38;5;124m'\u001b[39m\u001b[38;5;124mCanada\u001b[39m\u001b[38;5;124m'\u001b[39m]\n\u001b[0;32m----> 2\u001b[0m get(\u001b[38;5;124m'\u001b[39m\u001b[38;5;124mUSA\u001b[39m\u001b[38;5;124m'\u001b[39m)\n",
      "\u001b[0;31mNameError\u001b[0m: name 'get' is not defined"
     ]
    }
   ],
   "source": [
    "c = ['Korea', 'Canada']\n",
    "get('USA')"
   ]
  },
  {
   "cell_type": "code",
   "execution_count": 34,
   "id": "954dcc12-a891-430a-936b-93cce3282418",
   "metadata": {},
   "outputs": [
    {
     "name": "stdout",
     "output_type": "stream",
     "text": [
      "O| | \n",
      "-----\n",
      " |X| \n",
      "-----\n",
      " | | \n"
     ]
    }
   ],
   "source": [
    "b = {'top-1': ' ', 'top-m':' ', 'top-r': ' ',\n",
    "     'mid-1': ' ', 'mid-m':' ', 'mid-r': ' ', \n",
    "     'low-1': ' ', 'low-m':' ', 'low-r': ' ' }\n",
    "\n",
    "def board_out(b):\n",
    "    print(b['top-1'] + '|' + b['top-m'] + '|' + b['top-r'])\n",
    "    print('-----')\n",
    "    print(b['mid-1'] + '|' + b['mid-m'] + '|' + b['mid-r'])\n",
    "    print('-----')\n",
    "    print(b['low-1'] + '|' + b['low-m'] + '|' + b['low-r'])\n",
    "\n",
    "turn = 'X'\n",
    "move = 'mid-m'\n",
    "b[move] = turn\n",
    "\n",
    "if turn == 'X':\n",
    "    turn = 'O'\n",
    "else: \n",
    "    turn = 'X'\n",
    "\n",
    "move = 'top-1'\n",
    "b[move] = turn\n",
    "\n",
    "board_out(b)\n"
   ]
  },
  {
   "cell_type": "code",
   "execution_count": 40,
   "id": "aee6094a-a777-47fc-ac7d-8fd142274587",
   "metadata": {},
   "outputs": [
    {
     "name": "stdout",
     "output_type": "stream",
     "text": [
      "{'a': 2}\n"
     ]
    }
   ],
   "source": [
    "message = 'I am XXX, who are you?'\n",
    "\n",
    "count = {}\n",
    "\n",
    "for c in message:\n",
    "    if c == 'a':\n",
    "        count.setdefault(c,0)\n",
    "        count[c] = count[c] + 1\n",
    "    else:\n",
    "        continue\n",
    "\n",
    "print(count)"
   ]
  },
  {
   "cell_type": "code",
   "execution_count": 42,
   "id": "2df3a6f3-5472-40dc-a25b-36090d5466e1",
   "metadata": {},
   "outputs": [
    {
     "ename": "SyntaxError",
     "evalue": "unterminated string literal (detected at line 1) (3182168742.py, line 1)",
     "output_type": "error",
     "traceback": [
      "\u001b[0;36m  Cell \u001b[0;32mIn[42], line 1\u001b[0;36m\u001b[0m\n\u001b[0;31m    \"Mississippi\" in ['MI', 'AL', 'California', 'mississippi]\u001b[0m\n\u001b[0m                                                ^\u001b[0m\n\u001b[0;31mSyntaxError\u001b[0m\u001b[0;31m:\u001b[0m unterminated string literal (detected at line 1)\n"
     ]
    }
   ],
   "source": [
    "\"Mississippi\" in ['MI', 'AL', 'California', 'mississippi]"
   ]
  },
  {
   "cell_type": "code",
   "execution_count": null,
   "id": "1e571bdb-c134-4538-a4df-6b132106bff3",
   "metadata": {},
   "outputs": [
    {
     "name": "stdout",
     "output_type": "stream",
     "text": [
      "Hello, you!\n",
      "What is your name?\n"
     ]
    }
   ],
   "source": [
    "print('Hello, you!')\n",
    "print('What is your name?')\n",
    "name = input()\n",
    "print('It is good to meet you, ' + name)\n",
    "print('The length of your name is: ' + str(len(name)))\n",
    "print('Goodbye' + name)"
   ]
  },
  {
   "cell_type": "code",
   "execution_count": null,
   "id": "8e263350-b277-4f61-be9e-6260d4b90cd2",
   "metadata": {},
   "outputs": [],
   "source": [
    "70/10\n"
   ]
  },
  {
   "cell_type": "code",
   "execution_count": null,
   "id": "2cb9577e-1fea-4341-b1f0-4c28065e39ce",
   "metadata": {},
   "outputs": [],
   "source": [
    "name = 'Joo'\n",
    "password = 'animal'\n",
    "\n",
    "if name == 'Joo':\n",
    "    \n",
    "    print('Hello, Joo')\n",
    "\n",
    "    else: password == 'animal':\n",
    "        print('Acces granted')\n",
    "    else:\n",
    "        print('Wrong password')"
   ]
  },
  {
   "cell_type": "code",
   "execution_count": 23,
   "id": "a2ea0a16-c481-43b4-97c3-ea2bd61f076b",
   "metadata": {},
   "outputs": [
    {
     "name": "stdout",
     "output_type": "stream",
     "text": [
      "2\n",
      "1\n",
      "0\n"
     ]
    }
   ],
   "source": [
    "for iteration in range (2,-1,-1):\n",
    "    print(iteration)"
   ]
  },
  {
   "cell_type": "code",
   "execution_count": null,
   "id": "abbdc973-7b59-4092-8109-71f1cda28239",
   "metadata": {},
   "outputs": [],
   "source": [
    "hey = 0\n",
    "result = 0\n",
    "\n",
    "while hey < 10:\n",
    "    result = hey + result\n",
    "\n",
    "print(result)"
   ]
  },
  {
   "cell_type": "code",
   "execution_count": null,
   "id": "5b430356-ec88-416e-a9d9-4628e87c44ae",
   "metadata": {},
   "outputs": [],
   "source": []
  }
 ],
 "metadata": {
  "kernelspec": {
   "display_name": "Python [conda env:base] *",
   "language": "python",
   "name": "conda-base-py"
  },
  "language_info": {
   "codemirror_mode": {
    "name": "ipython",
    "version": 3
   },
   "file_extension": ".py",
   "mimetype": "text/x-python",
   "name": "python",
   "nbconvert_exporter": "python",
   "pygments_lexer": "ipython3",
   "version": "3.12.7"
  }
 },
 "nbformat": 4,
 "nbformat_minor": 5
}
